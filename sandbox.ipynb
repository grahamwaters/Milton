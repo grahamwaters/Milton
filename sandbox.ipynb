{
 "cells": [
  {
   "cell_type": "code",
   "execution_count": null,
   "metadata": {},
   "outputs": [],
   "source": [
    "!pip install requirements.txt -y\n"
   ]
  },
  {
   "cell_type": "code",
   "execution_count": null,
   "metadata": {},
   "outputs": [],
   "source": [
    "from core.engine import Engine\n",
    "from core.scene import Scene\n",
    "from core.hud.circular import CircularProgress\n",
    "\n",
    "engine = Engine(width=800, height=600, title=\"CybrHUD Demo\")\n",
    "meter = CircularProgress(x=400, y=300, radius=80, value=0.5)\n",
    "scene = Scene(effects=[meter], duration=5)\n",
    "engine.add_scene(scene)\n",
    "engine.run()\n"
   ]
  }
 ],
 "metadata": {
  "language_info": {
   "name": "python"
  }
 },
 "nbformat": 4,
 "nbformat_minor": 2
}
